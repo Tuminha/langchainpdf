{
 "cells": [
  {
   "cell_type": "code",
   "execution_count": 1,
   "metadata": {},
   "outputs": [],
   "source": [
    "! pip install langchain"
   ]
  },
  {
   "cell_type": "code",
   "execution_count": 3,
   "metadata": {},
   "outputs": [],
   "source": [
    "# The course will show the pip installs you would need to install packages on your own machine.\n",
    "# These packages are already installed on this platform and should not be run again.\n",
    "#! pip install pypdf "
   ]
  },
  {
   "cell_type": "code",
   "execution_count": 8,
   "metadata": {},
   "outputs": [
    {
     "name": "stdout",
     "output_type": "stream",
     "text": [
      "Requirement already satisfied: yt_dlp in /Users/franciscoteixeirabarbosa/anaconda3/lib/python3.10/site-packages (2022.11.11)\n",
      "Requirement already satisfied: mutagen in /Users/franciscoteixeirabarbosa/anaconda3/lib/python3.10/site-packages (from yt_dlp) (1.46.0)\n",
      "Requirement already satisfied: pycryptodomex in /Users/franciscoteixeirabarbosa/anaconda3/lib/python3.10/site-packages (from yt_dlp) (3.18.0)\n",
      "Requirement already satisfied: websockets in /Users/franciscoteixeirabarbosa/anaconda3/lib/python3.10/site-packages (from yt_dlp) (11.0.3)\n",
      "Requirement already satisfied: certifi in /Users/franciscoteixeirabarbosa/anaconda3/lib/python3.10/site-packages (from yt_dlp) (2023.5.7)\n",
      "Requirement already satisfied: brotli in /Users/franciscoteixeirabarbosa/anaconda3/lib/python3.10/site-packages (from yt_dlp) (1.0.9)\n",
      "Requirement already satisfied: pydub in /Users/franciscoteixeirabarbosa/anaconda3/lib/python3.10/site-packages (0.25.1)\n",
      "Requirement already satisfied: langchain in /Users/franciscoteixeirabarbosa/anaconda3/lib/python3.10/site-packages (0.0.225)\n",
      "Requirement already satisfied: PyYAML>=5.4.1 in /Users/franciscoteixeirabarbosa/anaconda3/lib/python3.10/site-packages (from langchain) (6.0)\n",
      "Requirement already satisfied: SQLAlchemy<3,>=1.4 in /Users/franciscoteixeirabarbosa/anaconda3/lib/python3.10/site-packages (from langchain) (2.0.15)\n",
      "Requirement already satisfied: aiohttp<4.0.0,>=3.8.3 in /Users/franciscoteixeirabarbosa/anaconda3/lib/python3.10/site-packages (from langchain) (3.8.4)\n",
      "Requirement already satisfied: async-timeout<5.0.0,>=4.0.0 in /Users/franciscoteixeirabarbosa/anaconda3/lib/python3.10/site-packages (from langchain) (4.0.2)\n",
      "Requirement already satisfied: dataclasses-json<0.6.0,>=0.5.7 in /Users/franciscoteixeirabarbosa/anaconda3/lib/python3.10/site-packages (from langchain) (0.5.7)\n",
      "Requirement already satisfied: langchainplus-sdk<0.0.21,>=0.0.20 in /Users/franciscoteixeirabarbosa/anaconda3/lib/python3.10/site-packages (from langchain) (0.0.20)\n",
      "Requirement already satisfied: numexpr<3.0.0,>=2.8.4 in /Users/franciscoteixeirabarbosa/anaconda3/lib/python3.10/site-packages (from langchain) (2.8.4)\n",
      "Requirement already satisfied: numpy<2,>=1 in /Users/franciscoteixeirabarbosa/anaconda3/lib/python3.10/site-packages (from langchain) (1.23.5)\n",
      "Requirement already satisfied: openapi-schema-pydantic<2.0,>=1.2 in /Users/franciscoteixeirabarbosa/anaconda3/lib/python3.10/site-packages (from langchain) (1.2.4)\n",
      "Requirement already satisfied: pydantic<2,>=1 in /Users/franciscoteixeirabarbosa/anaconda3/lib/python3.10/site-packages (from langchain) (1.10.8)\n",
      "Requirement already satisfied: requests<3,>=2 in /Users/franciscoteixeirabarbosa/anaconda3/lib/python3.10/site-packages (from langchain) (2.30.0)\n",
      "Requirement already satisfied: tenacity<9.0.0,>=8.1.0 in /Users/franciscoteixeirabarbosa/anaconda3/lib/python3.10/site-packages (from langchain) (8.2.2)\n",
      "Requirement already satisfied: attrs>=17.3.0 in /Users/franciscoteixeirabarbosa/anaconda3/lib/python3.10/site-packages (from aiohttp<4.0.0,>=3.8.3->langchain) (23.1.0)\n",
      "Requirement already satisfied: charset-normalizer<4.0,>=2.0 in /Users/franciscoteixeirabarbosa/anaconda3/lib/python3.10/site-packages (from aiohttp<4.0.0,>=3.8.3->langchain) (3.1.0)\n",
      "Requirement already satisfied: multidict<7.0,>=4.5 in /Users/franciscoteixeirabarbosa/anaconda3/lib/python3.10/site-packages (from aiohttp<4.0.0,>=3.8.3->langchain) (6.0.4)\n",
      "Requirement already satisfied: yarl<2.0,>=1.0 in /Users/franciscoteixeirabarbosa/anaconda3/lib/python3.10/site-packages (from aiohttp<4.0.0,>=3.8.3->langchain) (1.9.2)\n",
      "Requirement already satisfied: frozenlist>=1.1.1 in /Users/franciscoteixeirabarbosa/anaconda3/lib/python3.10/site-packages (from aiohttp<4.0.0,>=3.8.3->langchain) (1.3.3)\n",
      "Requirement already satisfied: aiosignal>=1.1.2 in /Users/franciscoteixeirabarbosa/anaconda3/lib/python3.10/site-packages (from aiohttp<4.0.0,>=3.8.3->langchain) (1.3.1)\n",
      "Requirement already satisfied: marshmallow<4.0.0,>=3.3.0 in /Users/franciscoteixeirabarbosa/anaconda3/lib/python3.10/site-packages (from dataclasses-json<0.6.0,>=0.5.7->langchain) (3.19.0)\n",
      "Requirement already satisfied: marshmallow-enum<2.0.0,>=1.5.1 in /Users/franciscoteixeirabarbosa/anaconda3/lib/python3.10/site-packages (from dataclasses-json<0.6.0,>=0.5.7->langchain) (1.5.1)\n",
      "Requirement already satisfied: typing-inspect>=0.4.0 in /Users/franciscoteixeirabarbosa/anaconda3/lib/python3.10/site-packages (from dataclasses-json<0.6.0,>=0.5.7->langchain) (0.9.0)\n",
      "Requirement already satisfied: typing-extensions>=4.2.0 in /Users/franciscoteixeirabarbosa/anaconda3/lib/python3.10/site-packages (from pydantic<2,>=1->langchain) (4.6.2)\n",
      "Requirement already satisfied: idna<4,>=2.5 in /Users/franciscoteixeirabarbosa/anaconda3/lib/python3.10/site-packages (from requests<3,>=2->langchain) (3.4)\n",
      "Requirement already satisfied: urllib3<3,>=1.21.1 in /Users/franciscoteixeirabarbosa/anaconda3/lib/python3.10/site-packages (from requests<3,>=2->langchain) (1.26.16)\n",
      "Requirement already satisfied: certifi>=2017.4.17 in /Users/franciscoteixeirabarbosa/anaconda3/lib/python3.10/site-packages (from requests<3,>=2->langchain) (2023.5.7)\n",
      "Requirement already satisfied: packaging>=17.0 in /Users/franciscoteixeirabarbosa/anaconda3/lib/python3.10/site-packages (from marshmallow<4.0.0,>=3.3.0->dataclasses-json<0.6.0,>=0.5.7->langchain) (23.1)\n",
      "Requirement already satisfied: mypy-extensions>=0.3.0 in /Users/franciscoteixeirabarbosa/anaconda3/lib/python3.10/site-packages (from typing-inspect>=0.4.0->dataclasses-json<0.6.0,>=0.5.7->langchain) (1.0.0)\n",
      "Requirement already satisfied: pydub in /Users/franciscoteixeirabarbosa/anaconda3/lib/python3.10/site-packages (0.25.1)\n",
      "Requirement already satisfied: openai in /Users/franciscoteixeirabarbosa/anaconda3/lib/python3.10/site-packages (0.27.8)\n",
      "Requirement already satisfied: requests>=2.20 in /Users/franciscoteixeirabarbosa/anaconda3/lib/python3.10/site-packages (from openai) (2.30.0)\n",
      "Requirement already satisfied: tqdm in /Users/franciscoteixeirabarbosa/anaconda3/lib/python3.10/site-packages (from openai) (4.65.0)\n",
      "Requirement already satisfied: aiohttp in /Users/franciscoteixeirabarbosa/anaconda3/lib/python3.10/site-packages (from openai) (3.8.4)\n",
      "Requirement already satisfied: charset-normalizer<4,>=2 in /Users/franciscoteixeirabarbosa/anaconda3/lib/python3.10/site-packages (from requests>=2.20->openai) (3.1.0)\n",
      "Requirement already satisfied: idna<4,>=2.5 in /Users/franciscoteixeirabarbosa/anaconda3/lib/python3.10/site-packages (from requests>=2.20->openai) (3.4)\n",
      "Requirement already satisfied: urllib3<3,>=1.21.1 in /Users/franciscoteixeirabarbosa/anaconda3/lib/python3.10/site-packages (from requests>=2.20->openai) (1.26.16)\n",
      "Requirement already satisfied: certifi>=2017.4.17 in /Users/franciscoteixeirabarbosa/anaconda3/lib/python3.10/site-packages (from requests>=2.20->openai) (2023.5.7)\n",
      "Requirement already satisfied: attrs>=17.3.0 in /Users/franciscoteixeirabarbosa/anaconda3/lib/python3.10/site-packages (from aiohttp->openai) (23.1.0)\n",
      "Requirement already satisfied: multidict<7.0,>=4.5 in /Users/franciscoteixeirabarbosa/anaconda3/lib/python3.10/site-packages (from aiohttp->openai) (6.0.4)\n",
      "Requirement already satisfied: async-timeout<5.0,>=4.0.0a3 in /Users/franciscoteixeirabarbosa/anaconda3/lib/python3.10/site-packages (from aiohttp->openai) (4.0.2)\n",
      "Requirement already satisfied: yarl<2.0,>=1.0 in /Users/franciscoteixeirabarbosa/anaconda3/lib/python3.10/site-packages (from aiohttp->openai) (1.9.2)\n",
      "Requirement already satisfied: frozenlist>=1.1.1 in /Users/franciscoteixeirabarbosa/anaconda3/lib/python3.10/site-packages (from aiohttp->openai) (1.3.3)\n",
      "Requirement already satisfied: aiosignal>=1.1.2 in /Users/franciscoteixeirabarbosa/anaconda3/lib/python3.10/site-packages (from aiohttp->openai) (1.3.1)\n"
     ]
    }
   ],
   "source": [
    "! pip install yt_dlp\n",
    "! pip install pydub\n",
    "! pip install langchain\n",
    "! pip install pydub\n",
    "! pip install openai"
   ]
  },
  {
   "cell_type": "code",
   "execution_count": 4,
   "metadata": {},
   "outputs": [],
   "source": [
    "import os\n",
    "import openai\n",
    "import sys\n",
    "sys.path.append('../..')\n",
    "\n",
    "from dotenv import load_dotenv, find_dotenv\n",
    "_ = load_dotenv(find_dotenv()) # read local .env file\n",
    "\n",
    "openai.api_key  = os.environ['OPENAI_API_KEY']"
   ]
  },
  {
   "cell_type": "code",
   "execution_count": 5,
   "metadata": {},
   "outputs": [],
   "source": [
    "from langchain.document_loaders import PyPDFLoader\n",
    "loader = PyPDFLoader(\"docs/The 17 immutable laws In Implant Dentistry.pdf\")\n",
    "pages = loader.load()"
   ]
  },
  {
   "cell_type": "code",
   "execution_count": 6,
   "metadata": {},
   "outputs": [
    {
     "data": {
      "text/plain": [
       "70"
      ]
     },
     "execution_count": 6,
     "metadata": {},
     "output_type": "execute_result"
    }
   ],
   "source": [
    "len(pages)"
   ]
  },
  {
   "cell_type": "code",
   "execution_count": 7,
   "metadata": {},
   "outputs": [],
   "source": [
    "page = pages[5]"
   ]
  },
  {
   "cell_type": "code",
   "execution_count": 8,
   "metadata": {},
   "outputs": [
    {
     "name": "stdout",
     "output_type": "stream",
     "text": [
      "CHAPTER 1\n",
      "1DISTANCE TO THE CONTACT POINTDifferent distance from the contact point to the bone crest will represent different soft tissue contour. The more distance between the contact point and the bone crest, the less likely is the presence of papilla.PAPILLA AROUND AN IMPLANT RESTORATIONThe presence of papilla around an implant is determined by the integrity of the interproximal bone peaks of the adjacent teeth (Kan 2003).\n",
      "PRESENCE OF PAPILLA\n",
      "\n"
     ]
    }
   ],
   "source": [
    "print(page.page_content[0:500])"
   ]
  },
  {
   "cell_type": "code",
   "execution_count": 9,
   "metadata": {},
   "outputs": [
    {
     "data": {
      "text/plain": [
       "{'source': 'docs/The 17 immutable laws In Implant Dentistry.pdf', 'page': 5}"
      ]
     },
     "execution_count": 9,
     "metadata": {},
     "output_type": "execute_result"
    }
   ],
   "source": [
    "page.metadata"
   ]
  }
 ],
 "metadata": {
  "kernelspec": {
   "display_name": "langchain",
   "language": "python",
   "name": "langchain"
  },
  "language_info": {
   "codemirror_mode": {
    "name": "ipython",
    "version": 3
   },
   "file_extension": ".py",
   "mimetype": "text/x-python",
   "name": "python",
   "nbconvert_exporter": "python",
   "pygments_lexer": "ipython3",
   "version": "3.10.9"
  },
  "orig_nbformat": 4
 },
 "nbformat": 4,
 "nbformat_minor": 2
}
