{
 "cells": [
  {
   "cell_type": "code",
   "execution_count": 29,
   "metadata": {},
   "outputs": [],
   "source": [
    "import os\n",
    "import openai\n",
    "import sys\n",
    "sys.path.append('../..')\n",
    "\n",
    "from dotenv import load_dotenv, find_dotenv\n",
    "_ = load_dotenv(find_dotenv()) # read local .env file\n",
    "\n",
    "openai.api_key  = os.environ['OPENAI_API_KEY']"
   ]
  },
  {
   "cell_type": "code",
   "execution_count": 20,
   "metadata": {},
   "outputs": [],
   "source": [
    "from langchain.vectorstores import Chroma\n"
   ]
  },
  {
   "cell_type": "code",
   "execution_count": 21,
   "metadata": {},
   "outputs": [],
   "source": [
    "from langchain.llms import OpenAI\n",
    "from langchain.retrievers.self_query.base import SelfQueryRetriever\n",
    "from langchain.chains.query_constructor.base import AttributeInfo\n",
    "\n",
    "from langchain.embeddings.openai import OpenAIEmbeddings\n",
    "\n",
    "persist_directory = \"docs/chroma\"\n",
    "\n",
    "\n",
    "embedding = OpenAIEmbeddings()"
   ]
  },
  {
   "cell_type": "code",
   "execution_count": null,
   "metadata": {},
   "outputs": [],
   "source": [
    "from langchain.vectorstores import Chroma\n",
    "\n",
    "import pickle\n",
    "\n",
    "with open('splits.pkl', 'rb') as f:\n",
    "    splits = pickle.load(f)"
   ]
  },
  {
   "cell_type": "code",
   "execution_count": 30,
   "metadata": {},
   "outputs": [
    {
     "name": "stderr",
     "output_type": "stream",
     "text": [
      "100%|██████████| 1/1 [00:02<00:00,  2.40s/it]\n"
     ]
    }
   ],
   "source": [
    "embedding = OpenAIEmbeddings()\n",
    "\n",
    "\n",
    "vectordb = Chroma.from_documents(\n",
    "    documents=splits,\n",
    "    embedding=embedding,\n",
    "    persist_directory=persist_directory,\n",
    ")"
   ]
  },
  {
   "cell_type": "code",
   "execution_count": 31,
   "metadata": {},
   "outputs": [
    {
     "name": "stdout",
     "output_type": "stream",
     "text": [
      "130\n"
     ]
    }
   ],
   "source": [
    "print(vectordb._collection.count())"
   ]
  },
  {
   "cell_type": "code",
   "execution_count": 11,
   "metadata": {},
   "outputs": [
    {
     "name": "stdout",
     "output_type": "stream",
     "text": [
      "Collecting tiktoken\n",
      "  Using cached tiktoken-0.4.0-cp310-cp310-macosx_11_0_arm64.whl (761 kB)\n",
      "Requirement already satisfied: requests>=2.26.0 in /Users/franciscoteixeirabarbosa/projects/test/.conda/lib/python3.10/site-packages (from tiktoken) (2.31.0)\n",
      "Collecting regex>=2022.1.18\n",
      "  Using cached regex-2023.6.3-cp310-cp310-macosx_11_0_arm64.whl (288 kB)\n",
      "Requirement already satisfied: certifi>=2017.4.17 in /Users/franciscoteixeirabarbosa/projects/test/.conda/lib/python3.10/site-packages (from requests>=2.26.0->tiktoken) (2023.5.7)\n",
      "Requirement already satisfied: idna<4,>=2.5 in /Users/franciscoteixeirabarbosa/projects/test/.conda/lib/python3.10/site-packages (from requests>=2.26.0->tiktoken) (3.4)\n",
      "Requirement already satisfied: charset-normalizer<4,>=2 in /Users/franciscoteixeirabarbosa/projects/test/.conda/lib/python3.10/site-packages (from requests>=2.26.0->tiktoken) (3.1.0)\n",
      "Requirement already satisfied: urllib3<3,>=1.21.1 in /Users/franciscoteixeirabarbosa/projects/test/.conda/lib/python3.10/site-packages (from requests>=2.26.0->tiktoken) (2.0.3)\n",
      "Installing collected packages: regex, tiktoken\n",
      "Successfully installed regex-2023.6.3 tiktoken-0.4.0\n"
     ]
    }
   ],
   "source": [
    "!pip install tiktoken"
   ]
  },
  {
   "cell_type": "code",
   "execution_count": 15,
   "metadata": {},
   "outputs": [
    {
     "name": "stdout",
     "output_type": "stream",
     "text": [
      "Requirement already satisfied: lark==1.1.5 in /Users/franciscoteixeirabarbosa/anaconda3/lib/python3.10/site-packages (1.1.5)\n"
     ]
    }
   ],
   "source": [
    "!pip install lark==1.1.5\n",
    "\n"
   ]
  },
  {
   "cell_type": "code",
   "execution_count": 23,
   "metadata": {},
   "outputs": [],
   "source": [
    "metadata_field_info = [\n",
    "    AttributeInfo(\n",
    "        name=\"source\",\n",
    "        description=\"The source is from the article of the news.\",\n",
    "        year=2021,\n",
    "        type=\"string\",\n",
    "    ),\n",
    "\n",
    "    AttributeInfo(\n",
    "        name=\"page\",\n",
    "        description=\"The page is from the article of the news.\",\n",
    "        year=2021,\n",
    "        type=\"string\",\n",
    "    ),\n",
    "    \n",
    "]"
   ]
  },
  {
   "cell_type": "code",
   "execution_count": 6,
   "metadata": {},
   "outputs": [
    {
     "name": "stdout",
     "output_type": "stream",
     "text": [
      "Collecting chromadb\n",
      "  Using cached chromadb-0.3.26-py3-none-any.whl (123 kB)\n",
      "Collecting hnswlib>=0.7\n",
      "  Using cached hnswlib-0.7.0-cp310-cp310-macosx_11_0_arm64.whl\n",
      "Collecting duckdb>=0.7.1\n",
      "  Using cached duckdb-0.8.1-cp310-cp310-macosx_11_0_arm64.whl (12.6 MB)\n",
      "Collecting onnxruntime>=1.14.1\n",
      "  Using cached onnxruntime-1.15.1-cp310-cp310-macosx_11_0_arm64.whl (6.1 MB)\n",
      "Collecting fastapi>=0.85.1\n",
      "  Downloading fastapi-0.99.1-py3-none-any.whl (58 kB)\n",
      "\u001b[2K     \u001b[90m━━━━━━━━━━━━━━━━━━━━━━━━━━━━━━━━━━━━━━━━\u001b[0m \u001b[32m58.4/58.4 kB\u001b[0m \u001b[31m3.1 MB/s\u001b[0m eta \u001b[36m0:00:00\u001b[0m\n",
      "\u001b[?25hRequirement already satisfied: typing-extensions>=4.5.0 in /Users/franciscoteixeirabarbosa/projects/test/.conda/lib/python3.10/site-packages (from chromadb) (4.7.1)\n",
      "Requirement already satisfied: tqdm>=4.65.0 in /Users/franciscoteixeirabarbosa/projects/test/.conda/lib/python3.10/site-packages (from chromadb) (4.65.0)\n",
      "Requirement already satisfied: requests>=2.28 in /Users/franciscoteixeirabarbosa/projects/test/.conda/lib/python3.10/site-packages (from chromadb) (2.31.0)\n",
      "Collecting posthog>=2.4.0\n",
      "  Using cached posthog-3.0.1-py2.py3-none-any.whl (37 kB)\n",
      "Requirement already satisfied: pydantic>=1.9 in /Users/franciscoteixeirabarbosa/projects/test/.conda/lib/python3.10/site-packages (from chromadb) (1.10.11)\n",
      "Collecting pulsar-client>=3.1.0\n",
      "  Using cached pulsar_client-3.2.0-cp310-cp310-macosx_10_15_universal2.whl (10.8 MB)\n",
      "Requirement already satisfied: numpy>=1.21.6 in /Users/franciscoteixeirabarbosa/projects/test/.conda/lib/python3.10/site-packages (from chromadb) (1.25.0)\n",
      "Collecting overrides>=7.3.1\n",
      "  Using cached overrides-7.3.1-py3-none-any.whl (17 kB)\n",
      "Collecting uvicorn[standard]>=0.18.3\n",
      "  Using cached uvicorn-0.22.0-py3-none-any.whl (58 kB)\n",
      "Collecting clickhouse-connect>=0.5.7\n",
      "  Using cached clickhouse_connect-0.6.4-cp310-cp310-macosx_11_0_arm64.whl (231 kB)\n",
      "Collecting tokenizers>=0.13.2\n",
      "  Using cached tokenizers-0.13.3-cp310-cp310-macosx_12_0_arm64.whl (3.9 MB)\n",
      "Collecting pandas>=1.3\n",
      "  Using cached pandas-2.0.3-cp310-cp310-macosx_11_0_arm64.whl (10.8 MB)\n",
      "Requirement already satisfied: certifi in /Users/franciscoteixeirabarbosa/projects/test/.conda/lib/python3.10/site-packages (from clickhouse-connect>=0.5.7->chromadb) (2023.5.7)\n",
      "Collecting pytz\n",
      "  Using cached pytz-2023.3-py2.py3-none-any.whl (502 kB)\n",
      "Collecting zstandard\n",
      "  Using cached zstandard-0.21.0-cp310-cp310-macosx_11_0_arm64.whl (364 kB)\n",
      "Requirement already satisfied: urllib3>=1.26 in /Users/franciscoteixeirabarbosa/projects/test/.conda/lib/python3.10/site-packages (from clickhouse-connect>=0.5.7->chromadb) (2.0.3)\n",
      "Collecting lz4\n",
      "  Using cached lz4-4.3.2-cp310-cp310-macosx_11_0_arm64.whl (212 kB)\n",
      "Collecting starlette<0.28.0,>=0.27.0\n",
      "  Using cached starlette-0.27.0-py3-none-any.whl (66 kB)\n",
      "Requirement already satisfied: packaging in /Users/franciscoteixeirabarbosa/projects/test/.conda/lib/python3.10/site-packages (from onnxruntime>=1.14.1->chromadb) (23.1)\n",
      "Collecting protobuf\n",
      "  Using cached protobuf-4.23.3-cp37-abi3-macosx_10_9_universal2.whl (400 kB)\n",
      "Collecting coloredlogs\n",
      "  Using cached coloredlogs-15.0.1-py2.py3-none-any.whl (46 kB)\n",
      "Collecting sympy\n",
      "  Using cached sympy-1.12-py3-none-any.whl (5.7 MB)\n",
      "Collecting flatbuffers\n",
      "  Using cached flatbuffers-23.5.26-py2.py3-none-any.whl (26 kB)\n",
      "Collecting tzdata>=2022.1\n",
      "  Using cached tzdata-2023.3-py2.py3-none-any.whl (341 kB)\n",
      "Requirement already satisfied: python-dateutil>=2.8.2 in /Users/franciscoteixeirabarbosa/projects/test/.conda/lib/python3.10/site-packages (from pandas>=1.3->chromadb) (2.8.2)\n",
      "Requirement already satisfied: six>=1.5 in /Users/franciscoteixeirabarbosa/projects/test/.conda/lib/python3.10/site-packages (from posthog>=2.4.0->chromadb) (1.16.0)\n",
      "Collecting monotonic>=1.5\n",
      "  Using cached monotonic-1.6-py2.py3-none-any.whl (8.2 kB)\n",
      "Collecting backoff>=1.10.0\n",
      "  Using cached backoff-2.2.1-py3-none-any.whl (15 kB)\n",
      "Requirement already satisfied: charset-normalizer<4,>=2 in /Users/franciscoteixeirabarbosa/projects/test/.conda/lib/python3.10/site-packages (from requests>=2.28->chromadb) (3.1.0)\n",
      "Requirement already satisfied: idna<4,>=2.5 in /Users/franciscoteixeirabarbosa/projects/test/.conda/lib/python3.10/site-packages (from requests>=2.28->chromadb) (3.4)\n",
      "Collecting click>=7.0\n",
      "  Using cached click-8.1.3-py3-none-any.whl (96 kB)\n",
      "Collecting h11>=0.8\n",
      "  Using cached h11-0.14.0-py3-none-any.whl (58 kB)\n",
      "Collecting watchfiles>=0.13\n",
      "  Using cached watchfiles-0.19.0-cp37-abi3-macosx_11_0_arm64.whl (388 kB)\n",
      "Requirement already satisfied: pyyaml>=5.1 in /Users/franciscoteixeirabarbosa/projects/test/.conda/lib/python3.10/site-packages (from uvicorn[standard]>=0.18.3->chromadb) (6.0)\n",
      "Requirement already satisfied: websockets>=10.4 in /Users/franciscoteixeirabarbosa/projects/test/.conda/lib/python3.10/site-packages (from uvicorn[standard]>=0.18.3->chromadb) (11.0.3)\n",
      "Collecting python-dotenv>=0.13\n",
      "  Using cached python_dotenv-1.0.0-py3-none-any.whl (19 kB)\n",
      "Collecting uvloop!=0.15.0,!=0.15.1,>=0.14.0\n",
      "  Using cached uvloop-0.17.0-cp310-cp310-macosx_10_9_universal2.whl (2.1 MB)\n",
      "Collecting httptools>=0.5.0\n",
      "  Using cached httptools-0.5.0-cp310-cp310-macosx_10_9_universal2.whl (228 kB)\n",
      "Collecting anyio<5,>=3.4.0\n",
      "  Downloading anyio-3.7.1-py3-none-any.whl (80 kB)\n",
      "\u001b[2K     \u001b[90m━━━━━━━━━━━━━━━━━━━━━━━━━━━━━━━━━━━━━━━━\u001b[0m \u001b[32m80.9/80.9 kB\u001b[0m \u001b[31m7.4 MB/s\u001b[0m eta \u001b[36m0:00:00\u001b[0m\n",
      "\u001b[?25hCollecting humanfriendly>=9.1\n",
      "  Using cached humanfriendly-10.0-py2.py3-none-any.whl (86 kB)\n",
      "Collecting mpmath>=0.19\n",
      "  Using cached mpmath-1.3.0-py3-none-any.whl (536 kB)\n",
      "Collecting sniffio>=1.1\n",
      "  Using cached sniffio-1.3.0-py3-none-any.whl (10 kB)\n",
      "Collecting exceptiongroup\n",
      "  Downloading exceptiongroup-1.1.2-py3-none-any.whl (14 kB)\n",
      "Installing collected packages: tokenizers, pytz, mpmath, monotonic, flatbuffers, duckdb, zstandard, uvloop, tzdata, sympy, sniffio, python-dotenv, pulsar-client, protobuf, overrides, lz4, humanfriendly, httptools, hnswlib, h11, exceptiongroup, click, backoff, uvicorn, posthog, pandas, coloredlogs, clickhouse-connect, anyio, watchfiles, starlette, onnxruntime, fastapi, chromadb\n",
      "Successfully installed anyio-3.7.1 backoff-2.2.1 chromadb-0.3.26 click-8.1.3 clickhouse-connect-0.6.4 coloredlogs-15.0.1 duckdb-0.8.1 exceptiongroup-1.1.2 fastapi-0.99.1 flatbuffers-23.5.26 h11-0.14.0 hnswlib-0.7.0 httptools-0.5.0 humanfriendly-10.0 lz4-4.3.2 monotonic-1.6 mpmath-1.3.0 onnxruntime-1.15.1 overrides-7.3.1 pandas-2.0.3 posthog-3.0.1 protobuf-4.23.3 pulsar-client-3.2.0 python-dotenv-1.0.0 pytz-2023.3 sniffio-1.3.0 starlette-0.27.0 sympy-1.12 tokenizers-0.13.3 tzdata-2023.3 uvicorn-0.22.0 uvloop-0.17.0 watchfiles-0.19.0 zstandard-0.21.0\n"
     ]
    }
   ],
   "source": [
    "!pip install chromadb"
   ]
  },
  {
   "cell_type": "code",
   "execution_count": 28,
   "metadata": {},
   "outputs": [
    {
     "ename": "TypeError",
     "evalue": "'NoneType' object is not callable",
     "output_type": "error",
     "traceback": [
      "\u001b[0;31m---------------------------------------------------------------------------\u001b[0m",
      "\u001b[0;31mTypeError\u001b[0m                                 Traceback (most recent call last)",
      "Cell \u001b[0;32mIn[28], line 5\u001b[0m\n\u001b[1;32m      1\u001b[0m document_content_description \u001b[39m=\u001b[39m \u001b[39m\"\u001b[39m\u001b[39mArticle notes\u001b[39m\u001b[39m\"\u001b[39m\n\u001b[1;32m      3\u001b[0m llm \u001b[39m=\u001b[39m OpenAI (temperature\u001b[39m=\u001b[39m\u001b[39m0\u001b[39m)\n\u001b[0;32m----> 5\u001b[0m retriever \u001b[39m=\u001b[39m SelfQueryRetriever\u001b[39m.\u001b[39;49mfrom_llm(\n\u001b[1;32m      6\u001b[0m     llm,\n\u001b[1;32m      7\u001b[0m     vectordb,\n\u001b[1;32m      8\u001b[0m     document_content_description,\n\u001b[1;32m      9\u001b[0m     metadata_field_info,\n\u001b[1;32m     10\u001b[0m     verbose\u001b[39m=\u001b[39;49m\u001b[39mTrue\u001b[39;49;00m,\n\u001b[1;32m     11\u001b[0m )\n",
      "File \u001b[0;32m~/projects/test/.conda/lib/python3.10/site-packages/langchain/retrievers/self_query/base.py:149\u001b[0m, in \u001b[0;36mSelfQueryRetriever.from_llm\u001b[0;34m(cls, llm, vectorstore, document_contents, metadata_field_info, structured_query_translator, chain_kwargs, enable_limit, use_original_query, **kwargs)\u001b[0m\n\u001b[1;32m    145\u001b[0m \u001b[39mif\u001b[39;00m \u001b[39m\"\u001b[39m\u001b[39mallowed_operators\u001b[39m\u001b[39m\"\u001b[39m \u001b[39mnot\u001b[39;00m \u001b[39min\u001b[39;00m chain_kwargs:\n\u001b[1;32m    146\u001b[0m     chain_kwargs[\n\u001b[1;32m    147\u001b[0m         \u001b[39m\"\u001b[39m\u001b[39mallowed_operators\u001b[39m\u001b[39m\"\u001b[39m\n\u001b[1;32m    148\u001b[0m     ] \u001b[39m=\u001b[39m structured_query_translator\u001b[39m.\u001b[39mallowed_operators\n\u001b[0;32m--> 149\u001b[0m llm_chain \u001b[39m=\u001b[39m load_query_constructor_chain(\n\u001b[1;32m    150\u001b[0m     llm,\n\u001b[1;32m    151\u001b[0m     document_contents,\n\u001b[1;32m    152\u001b[0m     metadata_field_info,\n\u001b[1;32m    153\u001b[0m     enable_limit\u001b[39m=\u001b[39;49menable_limit,\n\u001b[1;32m    154\u001b[0m     \u001b[39m*\u001b[39;49m\u001b[39m*\u001b[39;49mchain_kwargs,\n\u001b[1;32m    155\u001b[0m )\n\u001b[1;32m    156\u001b[0m \u001b[39mreturn\u001b[39;00m \u001b[39mcls\u001b[39m(\n\u001b[1;32m    157\u001b[0m     llm_chain\u001b[39m=\u001b[39mllm_chain,\n\u001b[1;32m    158\u001b[0m     vectorstore\u001b[39m=\u001b[39mvectorstore,\n\u001b[0;32m   (...)\u001b[0m\n\u001b[1;32m    161\u001b[0m     \u001b[39m*\u001b[39m\u001b[39m*\u001b[39mkwargs,\n\u001b[1;32m    162\u001b[0m )\n",
      "File \u001b[0;32m~/projects/test/.conda/lib/python3.10/site-packages/langchain/chains/query_constructor/base.py:142\u001b[0m, in \u001b[0;36mload_query_constructor_chain\u001b[0;34m(llm, document_contents, attribute_info, examples, allowed_comparators, allowed_operators, enable_limit, **kwargs)\u001b[0m\n\u001b[1;32m    116\u001b[0m \u001b[39mdef\u001b[39;00m \u001b[39mload_query_constructor_chain\u001b[39m(\n\u001b[1;32m    117\u001b[0m     llm: BaseLanguageModel,\n\u001b[1;32m    118\u001b[0m     document_contents: \u001b[39mstr\u001b[39m,\n\u001b[0;32m   (...)\u001b[0m\n\u001b[1;32m    124\u001b[0m     \u001b[39m*\u001b[39m\u001b[39m*\u001b[39mkwargs: Any,\n\u001b[1;32m    125\u001b[0m ) \u001b[39m-\u001b[39m\u001b[39m>\u001b[39m LLMChain:\n\u001b[1;32m    126\u001b[0m \u001b[39m    \u001b[39m\u001b[39m\"\"\"\u001b[39;00m\n\u001b[1;32m    127\u001b[0m \u001b[39m    Load a query constructor chain.\u001b[39;00m\n\u001b[1;32m    128\u001b[0m \u001b[39m    Args:\u001b[39;00m\n\u001b[0;32m   (...)\u001b[0m\n\u001b[1;32m    140\u001b[0m \u001b[39m        A LLMChain that can be used to construct queries.\u001b[39;00m\n\u001b[1;32m    141\u001b[0m \u001b[39m    \"\"\"\u001b[39;00m\n\u001b[0;32m--> 142\u001b[0m     prompt \u001b[39m=\u001b[39m _get_prompt(\n\u001b[1;32m    143\u001b[0m         document_contents,\n\u001b[1;32m    144\u001b[0m         attribute_info,\n\u001b[1;32m    145\u001b[0m         examples\u001b[39m=\u001b[39;49mexamples,\n\u001b[1;32m    146\u001b[0m         allowed_comparators\u001b[39m=\u001b[39;49mallowed_comparators,\n\u001b[1;32m    147\u001b[0m         allowed_operators\u001b[39m=\u001b[39;49mallowed_operators,\n\u001b[1;32m    148\u001b[0m         enable_limit\u001b[39m=\u001b[39;49menable_limit,\n\u001b[1;32m    149\u001b[0m     )\n\u001b[1;32m    150\u001b[0m     \u001b[39mreturn\u001b[39;00m LLMChain(llm\u001b[39m=\u001b[39mllm, prompt\u001b[39m=\u001b[39mprompt, \u001b[39m*\u001b[39m\u001b[39m*\u001b[39mkwargs)\n",
      "File \u001b[0;32m~/projects/test/.conda/lib/python3.10/site-packages/langchain/chains/query_constructor/base.py:103\u001b[0m, in \u001b[0;36m_get_prompt\u001b[0;34m(document_contents, attribute_info, examples, allowed_comparators, allowed_operators, enable_limit)\u001b[0m\n\u001b[1;32m     99\u001b[0m prefix \u001b[39m=\u001b[39m DEFAULT_PREFIX\u001b[39m.\u001b[39mformat(schema\u001b[39m=\u001b[39mschema)\n\u001b[1;32m    100\u001b[0m suffix \u001b[39m=\u001b[39m DEFAULT_SUFFIX\u001b[39m.\u001b[39mformat(\n\u001b[1;32m    101\u001b[0m     i\u001b[39m=\u001b[39m\u001b[39mlen\u001b[39m(examples) \u001b[39m+\u001b[39m \u001b[39m1\u001b[39m, content\u001b[39m=\u001b[39mdocument_contents, attributes\u001b[39m=\u001b[39mattribute_str\n\u001b[1;32m    102\u001b[0m )\n\u001b[0;32m--> 103\u001b[0m output_parser \u001b[39m=\u001b[39m StructuredQueryOutputParser\u001b[39m.\u001b[39;49mfrom_components(\n\u001b[1;32m    104\u001b[0m     allowed_comparators\u001b[39m=\u001b[39;49mallowed_comparators, allowed_operators\u001b[39m=\u001b[39;49mallowed_operators\n\u001b[1;32m    105\u001b[0m )\n\u001b[1;32m    106\u001b[0m \u001b[39mreturn\u001b[39;00m FewShotPromptTemplate(\n\u001b[1;32m    107\u001b[0m     examples\u001b[39m=\u001b[39mexamples,\n\u001b[1;32m    108\u001b[0m     example_prompt\u001b[39m=\u001b[39mEXAMPLE_PROMPT,\n\u001b[0;32m   (...)\u001b[0m\n\u001b[1;32m    112\u001b[0m     output_parser\u001b[39m=\u001b[39moutput_parser,\n\u001b[1;32m    113\u001b[0m )\n",
      "File \u001b[0;32m~/projects/test/.conda/lib/python3.10/site-packages/langchain/chains/query_constructor/base.py:60\u001b[0m, in \u001b[0;36mStructuredQueryOutputParser.from_components\u001b[0;34m(cls, allowed_comparators, allowed_operators)\u001b[0m\n\u001b[1;32m     54\u001b[0m \u001b[39m@classmethod\u001b[39m\n\u001b[1;32m     55\u001b[0m \u001b[39mdef\u001b[39;00m \u001b[39mfrom_components\u001b[39m(\n\u001b[1;32m     56\u001b[0m     \u001b[39mcls\u001b[39m,\n\u001b[1;32m     57\u001b[0m     allowed_comparators: Optional[Sequence[Comparator]] \u001b[39m=\u001b[39m \u001b[39mNone\u001b[39;00m,\n\u001b[1;32m     58\u001b[0m     allowed_operators: Optional[Sequence[Operator]] \u001b[39m=\u001b[39m \u001b[39mNone\u001b[39;00m,\n\u001b[1;32m     59\u001b[0m ) \u001b[39m-\u001b[39m\u001b[39m>\u001b[39m StructuredQueryOutputParser:\n\u001b[0;32m---> 60\u001b[0m     ast_parser \u001b[39m=\u001b[39m get_parser(\n\u001b[1;32m     61\u001b[0m         allowed_comparators\u001b[39m=\u001b[39;49mallowed_comparators, allowed_operators\u001b[39m=\u001b[39;49mallowed_operators\n\u001b[1;32m     62\u001b[0m     )\n\u001b[1;32m     63\u001b[0m     \u001b[39mreturn\u001b[39;00m \u001b[39mcls\u001b[39m(ast_parse\u001b[39m=\u001b[39mast_parser\u001b[39m.\u001b[39mparse)\n",
      "File \u001b[0;32m~/projects/test/.conda/lib/python3.10/site-packages/langchain/chains/query_constructor/parser.py:152\u001b[0m, in \u001b[0;36mget_parser\u001b[0;34m(allowed_comparators, allowed_operators)\u001b[0m\n\u001b[1;32m    138\u001b[0m \u001b[39mdef\u001b[39;00m \u001b[39mget_parser\u001b[39m(\n\u001b[1;32m    139\u001b[0m     allowed_comparators: Optional[Sequence[Comparator]] \u001b[39m=\u001b[39m \u001b[39mNone\u001b[39;00m,\n\u001b[1;32m    140\u001b[0m     allowed_operators: Optional[Sequence[Operator]] \u001b[39m=\u001b[39m \u001b[39mNone\u001b[39;00m,\n\u001b[1;32m    141\u001b[0m ) \u001b[39m-\u001b[39m\u001b[39m>\u001b[39m Lark:\n\u001b[1;32m    142\u001b[0m \u001b[39m    \u001b[39m\u001b[39m\"\"\"\u001b[39;00m\n\u001b[1;32m    143\u001b[0m \u001b[39m    Returns a parser for the query language.\u001b[39;00m\n\u001b[1;32m    144\u001b[0m \n\u001b[0;32m   (...)\u001b[0m\n\u001b[1;32m    150\u001b[0m \u001b[39m        Lark parser for the query language.\u001b[39;00m\n\u001b[1;32m    151\u001b[0m \u001b[39m    \"\"\"\u001b[39;00m\n\u001b[0;32m--> 152\u001b[0m     transformer \u001b[39m=\u001b[39m QueryTransformer(\n\u001b[1;32m    153\u001b[0m         allowed_comparators\u001b[39m=\u001b[39;49mallowed_comparators, allowed_operators\u001b[39m=\u001b[39;49mallowed_operators\n\u001b[1;32m    154\u001b[0m     )\n\u001b[1;32m    155\u001b[0m     \u001b[39mreturn\u001b[39;00m Lark(GRAMMAR, parser\u001b[39m=\u001b[39m\u001b[39m\"\u001b[39m\u001b[39mlalr\u001b[39m\u001b[39m\"\u001b[39m, transformer\u001b[39m=\u001b[39mtransformer, start\u001b[39m=\u001b[39m\u001b[39m\"\u001b[39m\u001b[39mprogram\u001b[39m\u001b[39m\"\u001b[39m)\n",
      "\u001b[0;31mTypeError\u001b[0m: 'NoneType' object is not callable"
     ]
    }
   ],
   "source": [
    "document_content_description = \"Article notes\"\n",
    "\n",
    "llm = OpenAI (temperature=0)\n",
    "\n",
    "retriever = SelfQueryRetriever.from_llm(\n",
    "    llm,\n",
    "    vectordb,\n",
    "    document_content_description,\n",
    "    metadata_field_info,\n",
    "    verbose=True,\n",
    ")"
   ]
  }
 ],
 "metadata": {
  "kernelspec": {
   "display_name": "Python 3",
   "language": "python",
   "name": "python3"
  },
  "language_info": {
   "codemirror_mode": {
    "name": "ipython",
    "version": 3
   },
   "file_extension": ".py",
   "mimetype": "text/x-python",
   "name": "python",
   "nbconvert_exporter": "python",
   "pygments_lexer": "ipython3",
   "version": "3.10.11"
  },
  "orig_nbformat": 4
 },
 "nbformat": 4,
 "nbformat_minor": 2
}
